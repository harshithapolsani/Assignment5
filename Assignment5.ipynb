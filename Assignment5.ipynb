{
 "cells": [
  {
   "cell_type": "code",
   "execution_count": 202,
   "metadata": {
    "collapsed": true,
    "pycharm": {
     "name": "#%%\n"
    }
   },
   "outputs": [
    {
     "data": {
      "text/plain": "<IPython.core.display.HTML object>",
      "text/html": "<h1>Loading glass.csv into Dataframe and describing the DF</h1>"
     },
     "metadata": {},
     "output_type": "display_data"
    },
    {
     "data": {
      "text/plain": "               RI          Na          Mg          Al          Si           K  \\\ncount  214.000000  214.000000  214.000000  214.000000  214.000000  214.000000   \nmean     1.518365   13.407850    2.684533    1.444907   72.650935    0.497056   \nstd      0.003037    0.816604    1.442408    0.499270    0.774546    0.652192   \nmin      1.511150   10.730000    0.000000    0.290000   69.810000    0.000000   \n25%      1.516522   12.907500    2.115000    1.190000   72.280000    0.122500   \n50%      1.517680   13.300000    3.480000    1.360000   72.790000    0.555000   \n75%      1.519157   13.825000    3.600000    1.630000   73.087500    0.610000   \nmax      1.533930   17.380000    4.490000    3.500000   75.410000    6.210000   \n\n               Ca          Ba          Fe        Type  \ncount  214.000000  214.000000  214.000000  214.000000  \nmean     8.956963    0.175047    0.057009    2.780374  \nstd      1.423153    0.497219    0.097439    2.103739  \nmin      5.430000    0.000000    0.000000    1.000000  \n25%      8.240000    0.000000    0.000000    1.000000  \n50%      8.600000    0.000000    0.000000    2.000000  \n75%      9.172500    0.000000    0.100000    3.000000  \nmax     16.190000    3.150000    0.510000    7.000000  ",
      "text/html": "<div>\n<style scoped>\n    .dataframe tbody tr th:only-of-type {\n        vertical-align: middle;\n    }\n\n    .dataframe tbody tr th {\n        vertical-align: top;\n    }\n\n    .dataframe thead th {\n        text-align: right;\n    }\n</style>\n<table border=\"1\" class=\"dataframe\">\n  <thead>\n    <tr style=\"text-align: right;\">\n      <th></th>\n      <th>RI</th>\n      <th>Na</th>\n      <th>Mg</th>\n      <th>Al</th>\n      <th>Si</th>\n      <th>K</th>\n      <th>Ca</th>\n      <th>Ba</th>\n      <th>Fe</th>\n      <th>Type</th>\n    </tr>\n  </thead>\n  <tbody>\n    <tr>\n      <th>count</th>\n      <td>214.000000</td>\n      <td>214.000000</td>\n      <td>214.000000</td>\n      <td>214.000000</td>\n      <td>214.000000</td>\n      <td>214.000000</td>\n      <td>214.000000</td>\n      <td>214.000000</td>\n      <td>214.000000</td>\n      <td>214.000000</td>\n    </tr>\n    <tr>\n      <th>mean</th>\n      <td>1.518365</td>\n      <td>13.407850</td>\n      <td>2.684533</td>\n      <td>1.444907</td>\n      <td>72.650935</td>\n      <td>0.497056</td>\n      <td>8.956963</td>\n      <td>0.175047</td>\n      <td>0.057009</td>\n      <td>2.780374</td>\n    </tr>\n    <tr>\n      <th>std</th>\n      <td>0.003037</td>\n      <td>0.816604</td>\n      <td>1.442408</td>\n      <td>0.499270</td>\n      <td>0.774546</td>\n      <td>0.652192</td>\n      <td>1.423153</td>\n      <td>0.497219</td>\n      <td>0.097439</td>\n      <td>2.103739</td>\n    </tr>\n    <tr>\n      <th>min</th>\n      <td>1.511150</td>\n      <td>10.730000</td>\n      <td>0.000000</td>\n      <td>0.290000</td>\n      <td>69.810000</td>\n      <td>0.000000</td>\n      <td>5.430000</td>\n      <td>0.000000</td>\n      <td>0.000000</td>\n      <td>1.000000</td>\n    </tr>\n    <tr>\n      <th>25%</th>\n      <td>1.516522</td>\n      <td>12.907500</td>\n      <td>2.115000</td>\n      <td>1.190000</td>\n      <td>72.280000</td>\n      <td>0.122500</td>\n      <td>8.240000</td>\n      <td>0.000000</td>\n      <td>0.000000</td>\n      <td>1.000000</td>\n    </tr>\n    <tr>\n      <th>50%</th>\n      <td>1.517680</td>\n      <td>13.300000</td>\n      <td>3.480000</td>\n      <td>1.360000</td>\n      <td>72.790000</td>\n      <td>0.555000</td>\n      <td>8.600000</td>\n      <td>0.000000</td>\n      <td>0.000000</td>\n      <td>2.000000</td>\n    </tr>\n    <tr>\n      <th>75%</th>\n      <td>1.519157</td>\n      <td>13.825000</td>\n      <td>3.600000</td>\n      <td>1.630000</td>\n      <td>73.087500</td>\n      <td>0.610000</td>\n      <td>9.172500</td>\n      <td>0.000000</td>\n      <td>0.100000</td>\n      <td>3.000000</td>\n    </tr>\n    <tr>\n      <th>max</th>\n      <td>1.533930</td>\n      <td>17.380000</td>\n      <td>4.490000</td>\n      <td>3.500000</td>\n      <td>75.410000</td>\n      <td>6.210000</td>\n      <td>16.190000</td>\n      <td>3.150000</td>\n      <td>0.510000</td>\n      <td>7.000000</td>\n    </tr>\n  </tbody>\n</table>\n</div>"
     },
     "execution_count": 202,
     "metadata": {},
     "output_type": "execute_result"
    }
   ],
   "source": [
    "\n",
    "import pandas as pd\n",
    "from IPython.display import HTML, display\n",
    "\n",
    "display(HTML('<h1>Loading glass.csv into Dataframe and describing the DF</h1>'))\n",
    "\n",
    "df = pd.read_csv('glass.csv')\n",
    "df.describe()"
   ]
  },
  {
   "cell_type": "code",
   "execution_count": 203,
   "outputs": [],
   "source": [
    "import numpy as np\n",
    "\n",
    "def get_train_test(df, y_col, x_cols, ratio):\n",
    "    \"\"\"\n",
    "    This method transforms a dataframe into a train and test set, for this you need to specify:\n",
    "    1. the ratio train : test (usually 0.7)\n",
    "    2. the column with the Y_values\n",
    "    \"\"\"\n",
    "    mask = np.random.rand(len(df)) < ratio\n",
    "    df_train = df[mask]\n",
    "    df_test = df[~mask]\n",
    "\n",
    "    Y_train = df_train[y_col].values\n",
    "    Y_test = df_test[y_col].values\n",
    "    X_train = df_train[x_cols].values\n",
    "    X_test = df_test[x_cols].values\n",
    "    return df_train, df_test, X_train, Y_train, X_test, Y_test\n",
    "\n",
    "\n",
    "y_col_glass = 'Type'\n",
    "x_cols_glass = list(df.columns.values)\n",
    "x_cols_glass.remove(y_col_glass)\n",
    "\n",
    "train_test_ratio = 0.7\n",
    "df_train, df_test, X_train, Y_train, X_test, Y_test = get_train_test(df, y_col_glass, x_cols_glass, train_test_ratio)"
   ],
   "metadata": {
    "collapsed": false,
    "pycharm": {
     "name": "#%%\n"
    }
   }
  },
  {
   "cell_type": "code",
   "execution_count": 74,
   "outputs": [
    {
     "data": {
      "text/plain": "array([[ 1.52101, 13.64   ,  4.49   , ...,  8.75   ,  0.     ,  0.     ],\n       [ 1.51761, 13.89   ,  3.6    , ...,  7.83   ,  0.     ,  0.     ],\n       [ 1.51766, 13.21   ,  3.69   , ...,  8.22   ,  0.     ,  0.     ],\n       ...,\n       [ 1.51685, 14.92   ,  0.     , ...,  8.4    ,  1.59   ,  0.     ],\n       [ 1.52065, 14.36   ,  0.     , ...,  8.44   ,  1.64   ,  0.     ],\n       [ 1.51711, 14.23   ,  0.     , ...,  8.62   ,  1.67   ,  0.     ]])"
     },
     "execution_count": 74,
     "metadata": {},
     "output_type": "execute_result"
    }
   ],
   "source": [
    "X_train"
   ],
   "metadata": {
    "collapsed": false,
    "pycharm": {
     "name": "#%%\n"
    }
   }
  },
  {
   "cell_type": "code",
   "execution_count": null,
   "outputs": [],
   "source": [],
   "metadata": {
    "collapsed": false,
    "pycharm": {
     "name": "#%%\n"
    }
   }
  },
  {
   "cell_type": "code",
   "execution_count": 210,
   "outputs": [
    {
     "data": {
      "text/plain": "<IPython.core.display.HTML object>",
      "text/html": "<h1>Implemented Naïve Bayes method and the score is</h1>"
     },
     "metadata": {},
     "output_type": "display_data"
    },
    {
     "name": "stdout",
     "output_type": "stream",
     "text": [
      "0.5637583892617449\n",
      "0.47692307692307695\n"
     ]
    }
   ],
   "source": [
    "display(HTML('<h1>Implemented Naïve Bayes method and the score is</h1>'))\n",
    "#Import Gaussian Naive Bayes model\n",
    "from sklearn.naive_bayes import GaussianNB\n",
    "\n",
    "model = GaussianNB()\n",
    "model.fit(X_train, Y_train)\n",
    "\n",
    "print(model.score(X_train, Y_train))\n",
    "print(model.score(X_test, Y_test))"
   ],
   "metadata": {
    "collapsed": false,
    "pycharm": {
     "name": "#%%\n"
    }
   }
  },
  {
   "cell_type": "code",
   "execution_count": 209,
   "outputs": [
    {
     "data": {
      "text/plain": "<IPython.core.display.HTML object>",
      "text/html": "<h1>Implemented linear SVM and the score is</h1>"
     },
     "metadata": {},
     "output_type": "display_data"
    },
    {
     "name": "stdout",
     "output_type": "stream",
     "text": [
      "0.3691275167785235\n",
      "0.3230769230769231\n"
     ]
    }
   ],
   "source": [
    "display(HTML('<h1>Implemented linear SVM and the score is</h1>'))\n",
    "#Import linear SVM model\n",
    "from sklearn.svm import SVC\n",
    "\n",
    "model = SVC()\n",
    "model.fit(X_train, Y_train)\n",
    "print(model.score(X_train, Y_train))\n",
    "print(model.score(X_test, Y_test))"
   ],
   "metadata": {
    "collapsed": false,
    "pycharm": {
     "name": "#%%\n"
    }
   }
  },
  {
   "cell_type": "markdown",
   "source": [
    "# It is clear that Naïve Bayes method gives better prediction results compared to linear SVM"
   ],
   "metadata": {
    "collapsed": false,
    "pycharm": {
     "name": "#%% md\n"
    }
   }
  }
 ],
 "metadata": {
  "kernelspec": {
   "display_name": "Python 3",
   "language": "python",
   "name": "python3"
  },
  "language_info": {
   "codemirror_mode": {
    "name": "ipython",
    "version": 2
   },
   "file_extension": ".py",
   "mimetype": "text/x-python",
   "name": "python",
   "nbconvert_exporter": "python",
   "pygments_lexer": "ipython2",
   "version": "2.7.6"
  }
 },
 "nbformat": 4,
 "nbformat_minor": 0
}